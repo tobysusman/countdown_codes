{
 "metadata": {
  "language_info": {
   "codemirror_mode": {
    "name": "ipython",
    "version": 3
   },
   "file_extension": ".py",
   "mimetype": "text/x-python",
   "name": "python",
   "nbconvert_exporter": "python",
   "pygments_lexer": "ipython3",
   "version": "3.8.6-final"
  },
  "orig_nbformat": 2,
  "kernelspec": {
   "name": "python3",
   "display_name": "Python 3.8.6 64-bit",
   "metadata": {
    "interpreter": {
     "hash": "d144fa90d4a329fcb5c3aa323307d0eb0945b850553210817c12573cc078f651"
    }
   }
  }
 },
 "nbformat": 4,
 "nbformat_minor": 2,
 "cells": [
  {
   "cell_type": "code",
   "execution_count": 2,
   "metadata": {},
   "outputs": [],
   "source": [
    "from bs4 import BeautifulSoup\n",
    "import requests\n",
    "import pandas as pd\n",
    "import random\n",
    "import re"
   ]
  },
  {
   "source": [
    "Load this episode into BS."
   ],
   "cell_type": "markdown",
   "metadata": {}
  },
  {
   "cell_type": "code",
   "execution_count": 13,
   "metadata": {},
   "outputs": [
    {
     "output_type": "stream",
     "name": "stdout",
     "text": [
      "C S T O A R T I U  \n \n Contestant 1: ARTIST    \n Contestant 2: STATIC    \n \n Episode 6788 was broadcast on 21 March 2018, as part of Series 78. Mohsin Shabir played Nicola Sibbick, with Mohsin Shabir winning 89 – 37. The Dictionary Corner guest was Len Goodman, and the lexicographer was Susie Dent. NOTE: Although PLAUDIT had been added to the dictionary by the time this episode was transmitted, it was still invalid at the time the episode was filmed in December 2017; hence, it remains listed as invalid here.\n"
     ]
    }
   ],
   "source": [
    "episodes = 7393\n",
    "episode_number = str(int(random.random()*episodes)+1)\n",
    "url = 'http://wiki.apterous.org/Episode_'\n",
    "url += episode_number\n",
    "\n",
    "\n",
    "response = requests.get(url)\n",
    "soup = BeautifulSoup(response.text, 'html.parser')\n",
    "table = soup.find_all('table', class_ = 'round_table')[0]\n",
    "\n",
    "number_of_rounds = len(table.find_all('td', class_ = 'rnum'))-1\n",
    "\n",
    "\n",
    "test = table.find_all('tr')\n",
    "\n",
    "result = None\n",
    "while result is None:\n",
    "    try:\n",
    "        rand = int(random.random()*len(test))\n",
    "        question = test[rand]\n",
    "        result = question.find('td', class_= 'lselection').getText()\n",
    "        contestant_1 = question.find('td', class_= 'c1word').getText()\n",
    "        contestant_2 = question.find('td', class_= 'c2word').getText()\n",
    "    except:\n",
    "        pass\n",
    "\n",
    "description = soup.find_all('div', id= 'bodyContent')[0]\n",
    "wordings = description.find_all('p')[1:4]\n",
    "string = []\n",
    "for desc in range(len(wordings)):\n",
    "    word = wordings[desc].text\n",
    "    thing = re.compile(r'\\+')\n",
    "    if thing.search(word):\n",
    "        pass\n",
    "    else:\n",
    "        string.append(word)\n",
    "    # string.append(wordings[desc].text)\n",
    "\n",
    "string = [item.strip() for item in string if str(item)]\n",
    "\n",
    "line = ' '.join(string)\n",
    "\n",
    "result = [letter + ' ' for letter in result]\n",
    "result = ''.join(result)\n",
    "\n",
    "print(result, '\\n', '\\n', 'Contestant 1:', contestant_1, '\\n', 'Contestant 2:', contestant_2, '\\n', '\\n', line)"
   ]
  }
 ]
}