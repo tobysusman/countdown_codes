{
 "metadata": {
  "language_info": {
   "codemirror_mode": {
    "name": "ipython",
    "version": 3
   },
   "file_extension": ".py",
   "mimetype": "text/x-python",
   "name": "python",
   "nbconvert_exporter": "python",
   "pygments_lexer": "ipython3",
   "version": "3.8.6-final"
  },
  "orig_nbformat": 2,
  "kernelspec": {
   "name": "python3",
   "display_name": "Python 3.8.6 64-bit",
   "metadata": {
    "interpreter": {
     "hash": "d144fa90d4a329fcb5c3aa323307d0eb0945b850553210817c12573cc078f651"
    }
   }
  }
 },
 "nbformat": 4,
 "nbformat_minor": 2,
 "cells": [
  {
   "cell_type": "code",
   "execution_count": 2,
   "metadata": {},
   "outputs": [],
   "source": [
    "from bs4 import BeautifulSoup\n",
    "import requests\n",
    "import pandas as pd\n",
    "import random"
   ]
  },
  {
   "cell_type": "code",
   "execution_count": 11,
   "metadata": {},
   "outputs": [
    {
     "output_type": "stream",
     "name": "stdout",
     "text": [
      " TRIESSKI \nClue:  He tries to ski; it's the most daring thing he's ever done.\nAnswer:   RISKIEST \n\nEpisode 6318 was broadcast on 29 February 2016, as part of Series 74. Paul Erdunast played Dave Higgins, with Paul Erdunast winning 111 – 26. The Dictionary Corner guest was Julia Bradbury, and the lexicographer was Susie Dent. \n"
     ]
    }
   ],
   "source": [
    "ttt_start = 3086\n",
    "episodes = 7393\n",
    "\n",
    "episode_number = str(int(random.random()*(episodes - ttt_start)+ttt_start)+1)\n",
    "\n",
    "url = 'http://wiki.apterous.org/Episode_'\n",
    "url += episode_number\n",
    "\n",
    "\n",
    "response = requests.get(url)\n",
    "soup = BeautifulSoup(response.text, 'html.parser')\n",
    "table = soup.find_all('table', class_ = 'round_table')[0]\n",
    "\n",
    "teasers = table.find_all('tr', class_ = 'ttt')\n",
    "\n",
    "num_of_ttt = len(teasers)\n",
    "random_teaser = teasers[random.randint(0,num_of_ttt-1)]\n",
    "\n",
    "selection = random_teaser.find_all('td', class_ = 'tselection')[0].text\n",
    "clue = random_teaser.find_all('td')[2].text\n",
    "answer = random_teaser.find_all('td')[3].text\n",
    "\n",
    "description = soup.find_all('div', id= 'bodyContent')[0]\n",
    "wordings = description.find_all('p')[1:4]\n",
    "string = []\n",
    "for desc in range(len(wordings)):\n",
    "    string.append(wordings[desc].text)\n",
    "\n",
    "string = [item.strip() for item in string if str(item)]\n",
    "\n",
    "line = ' '.join(string)\n",
    "\n",
    "\n",
    "\n",
    "\n",
    "print(selection)\n",
    "print('Clue: ', clue)\n",
    "\n",
    "print('Answer: ', answer)\n",
    "print()\n",
    "print(line)"
   ]
  }
 ]
}